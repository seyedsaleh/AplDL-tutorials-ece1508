{
 "cells": [
  {
   "cell_type": "markdown",
   "id": "ca207fabf248a783",
   "metadata": {
    "collapsed": false
   },
   "source": [
    "# Tutorial 1 Fundamentals\n",
    "\n",
    "\n",
    "Topics:\n",
    "- (5 min) Python Lists Operations\n",
    "- (10 min) NumPy Arrays & Sampling\n",
    "- (10 min) How to Define a Python Class\n",
    "- (30 min) Python Class of Single Layer Perceptron Classifier for XOR, AND Examples\n",
    "- (5 min) Q&A"
   ]
  },
  {
   "cell_type": "code",
   "execution_count": 6,
   "id": "initial_id",
   "metadata": {
    "ExecuteTime": {
     "end_time": "2024-01-29T20:15:10.934459Z",
     "start_time": "2024-01-29T20:15:10.922453Z"
    }
   },
   "outputs": [],
   "source": [
    "import numpy as np\n",
    "import matplotlib.pyplot as plt"
   ]
  },
  {
   "cell_type": "markdown",
   "id": "1bb86965b8a3ebb9",
   "metadata": {
    "collapsed": false
   },
   "source": [
    "# Part 1: Python Lists Operations"
   ]
  },
  {
   "cell_type": "code",
   "execution_count": 7,
   "id": "f4a7c112feacd9ed",
   "metadata": {
    "ExecuteTime": {
     "end_time": "2024-01-28T23:15:48.447535Z",
     "start_time": "2024-01-28T23:15:48.443401Z"
    },
    "collapsed": false
   },
   "outputs": [],
   "source": [
    "# Creating a list\n",
    "data = [0, 1, 2, 3, 4, 5]"
   ]
  },
  {
   "cell_type": "code",
   "execution_count": 8,
   "id": "acf2eda3-44b2-49c0-8126-e55d4b1ed3c1",
   "metadata": {},
   "outputs": [
    {
     "data": {
      "text/plain": [
       "[0, 1, 2, 3, 4, 5]"
      ]
     },
     "execution_count": 8,
     "metadata": {},
     "output_type": "execute_result"
    }
   ],
   "source": [
    "data"
   ]
  },
  {
   "cell_type": "code",
   "execution_count": 64,
   "id": "4cc209280a8e7f16",
   "metadata": {
    "ExecuteTime": {
     "end_time": "2024-01-28T23:15:48.763572Z",
     "start_time": "2024-01-28T23:15:48.757125Z"
    },
    "collapsed": false
   },
   "outputs": [
    {
     "name": "stdout",
     "output_type": "stream",
     "text": [
      "[0, 1, 2, 3, 4, 5, 6]\n"
     ]
    }
   ],
   "source": [
    "# Adding elements to the end of list\n",
    "data.append(6)\n",
    "print(data)"
   ]
  },
  {
   "cell_type": "code",
   "execution_count": 66,
   "id": "92b365a99c890712",
   "metadata": {
    "ExecuteTime": {
     "end_time": "2024-01-28T23:15:55.934695Z",
     "start_time": "2024-01-28T23:15:55.922550Z"
    },
    "collapsed": false
   },
   "outputs": [
    {
     "data": {
      "text/plain": [
       "6"
      ]
     },
     "execution_count": 66,
     "metadata": {},
     "output_type": "execute_result"
    }
   ],
   "source": [
    "# Removing last element from a list\n",
    "data.pop()"
   ]
  },
  {
   "cell_type": "code",
   "execution_count": 71,
   "id": "49edde21-45ae-4918-a245-a2f1442952ad",
   "metadata": {},
   "outputs": [
    {
     "data": {
      "text/plain": [
       "[0, 1, 2, 3, 4, 5]"
      ]
     },
     "execution_count": 71,
     "metadata": {},
     "output_type": "execute_result"
    }
   ],
   "source": [
    "data"
   ]
  },
  {
   "cell_type": "code",
   "execution_count": 69,
   "id": "bee3066d50f39996",
   "metadata": {
    "ExecuteTime": {
     "end_time": "2024-01-28T23:17:36.064001Z",
     "start_time": "2024-01-28T23:17:36.058102Z"
    },
    "collapsed": false
   },
   "outputs": [
    {
     "data": {
      "text/plain": [
       "[-2, -1, 0, 1, 2, 3, 4, 5]"
      ]
     },
     "execution_count": 69,
     "metadata": {},
     "output_type": "execute_result"
    }
   ],
   "source": [
    "# List concatenation\n",
    "[-2, -1] + data"
   ]
  },
  {
   "cell_type": "code",
   "execution_count": 9,
   "id": "9584ef104f9cfaec",
   "metadata": {
    "ExecuteTime": {
     "end_time": "2024-01-28T23:18:22.864948Z",
     "start_time": "2024-01-28T23:18:22.857160Z"
    },
    "collapsed": false
   },
   "outputs": [
    {
     "data": {
      "text/plain": [
       "2"
      ]
     },
     "execution_count": 9,
     "metadata": {},
     "output_type": "execute_result"
    }
   ],
   "source": [
    "# Accessing a list like an array\n",
    "data[2]"
   ]
  },
  {
   "cell_type": "code",
   "execution_count": 11,
   "id": "a34abc11e40f23aa",
   "metadata": {
    "collapsed": false
   },
   "outputs": [
    {
     "data": {
      "text/plain": [
       "4"
      ]
     },
     "execution_count": 11,
     "metadata": {},
     "output_type": "execute_result"
    }
   ],
   "source": [
    "# Get the last element of the list\n",
    "data[-2]"
   ]
  },
  {
   "cell_type": "code",
   "execution_count": 12,
   "id": "80a1c07e-7063-4a8d-a298-daab7b3fc610",
   "metadata": {},
   "outputs": [
    {
     "data": {
      "text/plain": [
       "[0,\n",
       " 1,\n",
       " 2,\n",
       " 3,\n",
       " 4,\n",
       " 5,\n",
       " 6,\n",
       " 7,\n",
       " 8,\n",
       " 9,\n",
       " 10,\n",
       " 11,\n",
       " 12,\n",
       " 13,\n",
       " 14,\n",
       " 15,\n",
       " 16,\n",
       " 17,\n",
       " 18,\n",
       " 19,\n",
       " 20,\n",
       " 21,\n",
       " 22,\n",
       " 23,\n",
       " 24,\n",
       " 25,\n",
       " 26,\n",
       " 27,\n",
       " 28,\n",
       " 29,\n",
       " 30,\n",
       " 31,\n",
       " 32,\n",
       " 33,\n",
       " 34,\n",
       " 35,\n",
       " 36,\n",
       " 37,\n",
       " 38,\n",
       " 39,\n",
       " 40,\n",
       " 41,\n",
       " 42,\n",
       " 43,\n",
       " 44,\n",
       " 45,\n",
       " 46,\n",
       " 47,\n",
       " 48,\n",
       " 49]"
      ]
     },
     "execution_count": 12,
     "metadata": {},
     "output_type": "execute_result"
    }
   ],
   "source": [
    "range(0, 50)  # iterator\n",
    "list(range(0, 50))"
   ]
  },
  {
   "cell_type": "code",
   "execution_count": 74,
   "id": "9e7ff25ac6266f49",
   "metadata": {
    "ExecuteTime": {
     "end_time": "2024-01-28T23:20:11.776451Z",
     "start_time": "2024-01-28T23:20:11.767547Z"
    },
    "collapsed": false
   },
   "outputs": [
    {
     "name": "stdout",
     "output_type": "stream",
     "text": [
      "[0, 1, 2, 3, 4, 5, 6, 7, 8, 9, 10, 11, 12, 13, 14, 15, 16, 17, 18, 19, 20, 21, 22, 23, 24, 25, 26, 27, 28, 29, 30, 31, 32, 33, 34, 35, 36, 37, 38, 39, 40, 41, 42, 43, 44, 45, 46, 47, 48, 49]\n"
     ]
    }
   ],
   "source": [
    "# Generating a list of numbers\n",
    "data = list(range(0, 50))\n",
    "print(data)"
   ]
  },
  {
   "cell_type": "code",
   "execution_count": 13,
   "id": "ec49e5e5860b0bcf",
   "metadata": {
    "ExecuteTime": {
     "end_time": "2024-01-28T23:21:43.293573Z",
     "start_time": "2024-01-28T23:21:43.286254Z"
    },
    "collapsed": false
   },
   "outputs": [
    {
     "name": "stdout",
     "output_type": "stream",
     "text": [
      "[3, 7, 11, 15, 19, 23, 27, 31, 35, 39, 43, 47, 51, 55, 59, 63, 67, 71, 75, 79, 83, 87, 91, 95, 99]\n"
     ]
    }
   ],
   "source": [
    "# Fancier: list comprehension\n",
    "data = [2*i+3 for i in range(0, 50) if i % 2 == 0]\n",
    "# data = [func(i) for i in range(0, 50) if condition(i)]\n",
    "print(data)"
   ]
  },
  {
   "cell_type": "code",
   "execution_count": 20,
   "id": "892e1c804a6dc69b",
   "metadata": {
    "ExecuteTime": {
     "end_time": "2024-01-28T23:24:02.173417Z",
     "start_time": "2024-01-28T23:24:02.168277Z"
    },
    "collapsed": false
   },
   "outputs": [],
   "source": [
    "# List slicing syntax\n",
    "data = list(range(0, 50))\n",
    "# data[1:3]\n",
    "# data[2:]\n",
    "# data[:3]\n",
    "# data[1:10:2]\n",
    "# data[::-1]"
   ]
  },
  {
   "cell_type": "code",
   "execution_count": 85,
   "id": "d7b55935-c28e-4120-a0c2-3a46949bb528",
   "metadata": {},
   "outputs": [
    {
     "data": {
      "text/plain": [
       "[0,\n",
       " 1,\n",
       " 2,\n",
       " 3,\n",
       " 4,\n",
       " 5,\n",
       " 6,\n",
       " 7,\n",
       " 8,\n",
       " 9,\n",
       " 10,\n",
       " 11,\n",
       " 12,\n",
       " 13,\n",
       " 14,\n",
       " 15,\n",
       " 16,\n",
       " 17,\n",
       " 18,\n",
       " 19,\n",
       " 20,\n",
       " 21,\n",
       " 22,\n",
       " 23,\n",
       " 24,\n",
       " 25,\n",
       " 26,\n",
       " 27,\n",
       " 28,\n",
       " 29,\n",
       " 30,\n",
       " 31,\n",
       " 32,\n",
       " 33,\n",
       " 34,\n",
       " 35,\n",
       " 36,\n",
       " 37,\n",
       " 38,\n",
       " 39,\n",
       " 40,\n",
       " 41,\n",
       " 42,\n",
       " 43,\n",
       " 44,\n",
       " 45,\n",
       " 46,\n",
       " 47,\n",
       " 48,\n",
       " 49]"
      ]
     },
     "execution_count": 85,
     "metadata": {},
     "output_type": "execute_result"
    }
   ],
   "source": [
    "data"
   ]
  },
  {
   "cell_type": "code",
   "execution_count": 81,
   "id": "a7f59f91-08f5-47c3-a6b9-ab2b103908b8",
   "metadata": {},
   "outputs": [
    {
     "data": {
      "text/plain": [
       "[0, 1, 2, 3]"
      ]
     },
     "execution_count": 81,
     "metadata": {},
     "output_type": "execute_result"
    }
   ],
   "source": [
    "data[0:4]"
   ]
  },
  {
   "cell_type": "code",
   "execution_count": 86,
   "id": "6a905c6f-1cbf-42d8-9b23-0f1529df7089",
   "metadata": {},
   "outputs": [
    {
     "data": {
      "text/plain": [
       "[]"
      ]
     },
     "execution_count": 86,
     "metadata": {},
     "output_type": "execute_result"
    }
   ],
   "source": [
    "data[10:1:2]"
   ]
  },
  {
   "cell_type": "code",
   "execution_count": 87,
   "id": "286e2cf5-3022-44a3-80bf-491d93c30f2d",
   "metadata": {},
   "outputs": [
    {
     "data": {
      "text/plain": [
       "[10, 9, 8, 7, 6, 5, 4, 3, 2]"
      ]
     },
     "execution_count": 87,
     "metadata": {},
     "output_type": "execute_result"
    }
   ],
   "source": [
    "data[10:1:-1]"
   ]
  },
  {
   "cell_type": "code",
   "execution_count": 89,
   "id": "91b51e72-3687-4bcf-93e3-2c681837c042",
   "metadata": {},
   "outputs": [
    {
     "data": {
      "text/plain": [
       "[0,\n",
       " 1,\n",
       " 2,\n",
       " 3,\n",
       " 4,\n",
       " 5,\n",
       " 6,\n",
       " 7,\n",
       " 8,\n",
       " 9,\n",
       " 10,\n",
       " 11,\n",
       " 12,\n",
       " 13,\n",
       " 14,\n",
       " 15,\n",
       " 16,\n",
       " 17,\n",
       " 18,\n",
       " 19,\n",
       " 20,\n",
       " 21,\n",
       " 22,\n",
       " 23,\n",
       " 24,\n",
       " 25,\n",
       " 26,\n",
       " 27,\n",
       " 28,\n",
       " 29,\n",
       " 30,\n",
       " 31,\n",
       " 32,\n",
       " 33,\n",
       " 34,\n",
       " 35,\n",
       " 36,\n",
       " 37,\n",
       " 38,\n",
       " 39,\n",
       " 40,\n",
       " 41,\n",
       " 42,\n",
       " 43,\n",
       " 44,\n",
       " 45,\n",
       " 46,\n",
       " 47]"
      ]
     },
     "execution_count": 89,
     "metadata": {},
     "output_type": "execute_result"
    }
   ],
   "source": [
    "data[:-2]"
   ]
  },
  {
   "cell_type": "code",
   "execution_count": 88,
   "id": "945a1069-610b-4916-b528-31c899d43b45",
   "metadata": {},
   "outputs": [
    {
     "data": {
      "text/plain": [
       "[2,\n",
       " 3,\n",
       " 4,\n",
       " 5,\n",
       " 6,\n",
       " 7,\n",
       " 8,\n",
       " 9,\n",
       " 10,\n",
       " 11,\n",
       " 12,\n",
       " 13,\n",
       " 14,\n",
       " 15,\n",
       " 16,\n",
       " 17,\n",
       " 18,\n",
       " 19,\n",
       " 20,\n",
       " 21,\n",
       " 22,\n",
       " 23,\n",
       " 24,\n",
       " 25,\n",
       " 26,\n",
       " 27,\n",
       " 28,\n",
       " 29,\n",
       " 30,\n",
       " 31,\n",
       " 32,\n",
       " 33,\n",
       " 34,\n",
       " 35,\n",
       " 36,\n",
       " 37,\n",
       " 38,\n",
       " 39,\n",
       " 40,\n",
       " 41,\n",
       " 42,\n",
       " 43,\n",
       " 44,\n",
       " 45,\n",
       " 46,\n",
       " 47,\n",
       " 48,\n",
       " 49]"
      ]
     },
     "execution_count": 88,
     "metadata": {},
     "output_type": "execute_result"
    }
   ],
   "source": [
    "data[2:]"
   ]
  },
  {
   "cell_type": "code",
   "execution_count": 94,
   "id": "fe5c1db5c74abf",
   "metadata": {
    "ExecuteTime": {
     "end_time": "2024-01-28T23:32:18.203378Z",
     "start_time": "2024-01-28T23:32:18.197314Z"
    },
    "collapsed": false
   },
   "outputs": [
    {
     "name": "stdout",
     "output_type": "stream",
     "text": [
      "[7, 8, 9, 10, 11, 12]\n",
      "5\n"
     ]
    }
   ],
   "source": [
    "# \"2D\" lists\n",
    "data = [[0, 1, 2, 4, 5, 6], [7, 8, 9, 10, 11, 12]]\n",
    "print(data[1])\n",
    "print(data[0][4])"
   ]
  },
  {
   "cell_type": "code",
   "execution_count": 14,
   "id": "fae1b187b491c332",
   "metadata": {
    "ExecuteTime": {
     "end_time": "2024-01-28T23:26:32.999900Z",
     "start_time": "2024-01-28T23:26:32.996478Z"
    },
    "collapsed": false
   },
   "outputs": [
    {
     "name": "stdout",
     "output_type": "stream",
     "text": [
      "0\n",
      "2\n",
      "4\n",
      "6\n",
      "8\n",
      "10\n",
      "12\n"
     ]
    }
   ],
   "source": [
    "# Find all the even numbers elements in the 2D list\n",
    "for row in data:\n",
    "    for ele in row:\n",
    "        if ele % 2 == 0:\n",
    "            print(ele)"
   ]
  },
  {
   "cell_type": "markdown",
   "id": "79c81c48480cd3b9",
   "metadata": {
    "collapsed": false
   },
   "source": [
    "# Part 2: NumPy"
   ]
  },
  {
   "cell_type": "code",
   "execution_count": 27,
   "id": "3ea0eb21-1c7e-4fb1-94a0-5cbcf62ae493",
   "metadata": {},
   "outputs": [],
   "source": [
    "data = [[0, 1, 2, 4, 5, 6], \n",
    "        [7, 8, 9, 10, 11, 12]]\n"
   ]
  },
  {
   "cell_type": "code",
   "execution_count": 25,
   "id": "4b56396d-17c3-43ac-831b-87d8fc08b958",
   "metadata": {},
   "outputs": [
    {
     "data": {
      "text/plain": [
       "[0, 1, 2, 4, 5, 6]"
      ]
     },
     "execution_count": 25,
     "metadata": {},
     "output_type": "execute_result"
    }
   ],
   "source": [
    "data[0]"
   ]
  },
  {
   "cell_type": "code",
   "execution_count": 26,
   "id": "fafc7fa4-a6cb-4833-a655-da6c392055f6",
   "metadata": {},
   "outputs": [
    {
     "data": {
      "text/plain": [
       "[7, 8, 9, 10, 11, 12, 13]"
      ]
     },
     "execution_count": 26,
     "metadata": {},
     "output_type": "execute_result"
    }
   ],
   "source": [
    "data[1]"
   ]
  },
  {
   "cell_type": "code",
   "execution_count": 28,
   "id": "13e227c1e5b9d68e",
   "metadata": {
    "ExecuteTime": {
     "end_time": "2024-01-29T20:18:22.093537Z",
     "start_time": "2024-01-29T20:18:22.064270Z"
    },
    "collapsed": false
   },
   "outputs": [
    {
     "name": "stdout",
     "output_type": "stream",
     "text": [
      "[[ 0  1  2  4  5  6]\n",
      " [ 7  8  9 10 11 12]]\n"
     ]
    }
   ],
   "source": [
    "data_np = np.array(data)\n",
    "print(data_np)"
   ]
  },
  {
   "cell_type": "code",
   "execution_count": 29,
   "id": "01c0fc51-cfaf-4eea-a2fc-5b241a1ef06f",
   "metadata": {},
   "outputs": [
    {
     "data": {
      "text/plain": [
       "array([[ 0,  1,  2,  4,  5,  6],\n",
       "       [ 7,  8,  9, 10, 11, 12]])"
      ]
     },
     "execution_count": 29,
     "metadata": {},
     "output_type": "execute_result"
    }
   ],
   "source": [
    "data_np"
   ]
  },
  {
   "cell_type": "code",
   "execution_count": 16,
   "id": "7abf6f276e570e3f",
   "metadata": {
    "ExecuteTime": {
     "end_time": "2024-01-28T23:32:55.988242Z",
     "start_time": "2024-01-28T23:32:55.981798Z"
    },
    "collapsed": false
   },
   "outputs": [
    {
     "data": {
      "text/plain": [
       "5"
      ]
     },
     "execution_count": 16,
     "metadata": {},
     "output_type": "execute_result"
    }
   ],
   "source": [
    "# Accessing via indices\n",
    "data_np[0][4]"
   ]
  },
  {
   "cell_type": "code",
   "execution_count": 17,
   "id": "fda2e9508590c51b",
   "metadata": {
    "ExecuteTime": {
     "end_time": "2024-01-28T23:33:01.104397Z",
     "start_time": "2024-01-28T23:33:01.099864Z"
    },
    "collapsed": false
   },
   "outputs": [
    {
     "data": {
      "text/plain": [
       "5"
      ]
     },
     "execution_count": 17,
     "metadata": {},
     "output_type": "execute_result"
    }
   ],
   "source": [
    "# A different way to access via indices\n",
    "x = (0, 4) # tuple\n",
    "data_np[x]"
   ]
  },
  {
   "cell_type": "code",
   "execution_count": 18,
   "id": "f299efcf2905c4c",
   "metadata": {
    "ExecuteTime": {
     "end_time": "2024-01-28T23:35:31.403244Z",
     "start_time": "2024-01-28T23:35:31.395148Z"
    },
    "collapsed": false
   },
   "outputs": [
    {
     "data": {
      "text/plain": [
       "array([2, 9])"
      ]
     },
     "execution_count": 18,
     "metadata": {},
     "output_type": "execute_result"
    }
   ],
   "source": [
    "# Find all the elements in the third column\n",
    "data_np[:, 2]"
   ]
  },
  {
   "cell_type": "code",
   "execution_count": 98,
   "id": "f9546606-97dd-4312-8ec1-fab4c90f0f79",
   "metadata": {},
   "outputs": [
    {
     "data": {
      "text/plain": [
       "array([ 7,  8,  9, 10, 11, 12])"
      ]
     },
     "execution_count": 98,
     "metadata": {},
     "output_type": "execute_result"
    }
   ],
   "source": [
    "data_np[1, :]"
   ]
  },
  {
   "cell_type": "code",
   "execution_count": 30,
   "id": "66a1a10f1af74625",
   "metadata": {
    "ExecuteTime": {
     "end_time": "2024-01-28T23:40:24.075170Z",
     "start_time": "2024-01-28T23:40:24.066924Z"
    },
    "collapsed": false
   },
   "outputs": [
    {
     "data": {
      "text/plain": [
       "array([[ True, False,  True,  True, False,  True],\n",
       "       [False,  True, False,  True, False,  True]])"
      ]
     },
     "execution_count": 30,
     "metadata": {},
     "output_type": "execute_result"
    }
   ],
   "source": [
    "# Find all the even numbers in the 2D list\n",
    "data_np % 2 == 0"
   ]
  },
  {
   "cell_type": "code",
   "execution_count": 20,
   "id": "20188c58ce609be1",
   "metadata": {
    "ExecuteTime": {
     "end_time": "2024-01-28T23:40:30.006550Z",
     "start_time": "2024-01-28T23:40:29.989498Z"
    },
    "collapsed": false
   },
   "outputs": [
    {
     "data": {
      "text/plain": [
       "array([ 0,  2,  4,  6,  8, 10, 12])"
      ]
     },
     "execution_count": 20,
     "metadata": {},
     "output_type": "execute_result"
    }
   ],
   "source": [
    "data_np[data_np % 2 == 0]"
   ]
  },
  {
   "cell_type": "code",
   "execution_count": 99,
   "id": "354f230955a2877a",
   "metadata": {
    "ExecuteTime": {
     "end_time": "2024-01-28T23:47:50.233031Z",
     "start_time": "2024-01-28T23:47:50.225761Z"
    },
    "collapsed": false
   },
   "outputs": [
    {
     "name": "stdout",
     "output_type": "stream",
     "text": [
      "[0 0 0 0 1 1 1]\n",
      "[0 2 3 5 1 3 5]\n"
     ]
    }
   ],
   "source": [
    "# What are the indices of the even numbers\n",
    "row_indices, col_indices = np.where(data_np % 2 == 0)\n",
    "print(row_indices)\n",
    "print(col_indices)"
   ]
  },
  {
   "cell_type": "code",
   "execution_count": 34,
   "id": "8952848f-e371-4009-be14-b779ccc964e5",
   "metadata": {},
   "outputs": [
    {
     "data": {
      "text/plain": [
       "(2, 6)"
      ]
     },
     "execution_count": 34,
     "metadata": {},
     "output_type": "execute_result"
    }
   ],
   "source": [
    "data_np.shape"
   ]
  },
  {
   "cell_type": "code",
   "execution_count": 35,
   "id": "99c05321-6cf1-4ddd-9880-d5ca9a140b46",
   "metadata": {},
   "outputs": [
    {
     "data": {
      "text/plain": [
       "2"
      ]
     },
     "execution_count": 35,
     "metadata": {},
     "output_type": "execute_result"
    }
   ],
   "source": [
    "len(data_np)"
   ]
  },
  {
   "cell_type": "code",
   "execution_count": 36,
   "id": "f94b37f7-2a5b-4379-968f-bcb2bfc274e8",
   "metadata": {},
   "outputs": [
    {
     "data": {
      "text/plain": [
       "12"
      ]
     },
     "execution_count": 36,
     "metadata": {},
     "output_type": "execute_result"
    }
   ],
   "source": [
    "data_np.size"
   ]
  },
  {
   "cell_type": "markdown",
   "id": "528e66f2f2b49835",
   "metadata": {
    "collapsed": false
   },
   "source": [
    "## NumPy Array Operations"
   ]
  },
  {
   "cell_type": "code",
   "execution_count": 31,
   "id": "7bc8b65a459188f7",
   "metadata": {
    "ExecuteTime": {
     "end_time": "2024-01-28T23:55:56.809586Z",
     "start_time": "2024-01-28T23:55:56.802287Z"
    },
    "collapsed": false
   },
   "outputs": [],
   "source": [
    "vec1 = np.array([0, 1, 2, 3, 4, 5])\n",
    "vec2 = np.array([4, 2, 1, 3, 5, 6])"
   ]
  },
  {
   "cell_type": "code",
   "execution_count": 32,
   "id": "1461a2a41ffd72fb",
   "metadata": {
    "ExecuteTime": {
     "end_time": "2024-01-29T00:24:57.750872Z",
     "start_time": "2024-01-29T00:24:57.741859Z"
    },
    "collapsed": false
   },
   "outputs": [
    {
     "name": "stdout",
     "output_type": "stream",
     "text": [
      "6\n",
      "(6,)\n",
      "6\n"
     ]
    }
   ],
   "source": [
    "# Properties of arrays\n",
    "print(len(vec1))\n",
    "print(vec1.shape)\n",
    "print(vec1.size)"
   ]
  },
  {
   "cell_type": "code",
   "execution_count": 108,
   "id": "f47304cdd5e3a32a",
   "metadata": {
    "ExecuteTime": {
     "end_time": "2024-01-28T23:56:14.890889Z",
     "start_time": "2024-01-28T23:56:14.882297Z"
    },
    "collapsed": false
   },
   "outputs": [
    {
     "data": {
      "text/plain": [
       "array([ 4,  3,  3,  6,  9, 11])"
      ]
     },
     "execution_count": 108,
     "metadata": {},
     "output_type": "execute_result"
    }
   ],
   "source": [
    "# Element-wise addition. + is different than lists!\n",
    "vec1 + vec2"
   ]
  },
  {
   "cell_type": "code",
   "execution_count": 25,
   "id": "f9792c93432e381e",
   "metadata": {
    "ExecuteTime": {
     "end_time": "2024-01-28T23:57:30.966621Z",
     "start_time": "2024-01-28T23:57:30.957218Z"
    },
    "collapsed": false
   },
   "outputs": [
    {
     "data": {
      "text/plain": [
       "array([0, 1, 2, 3, 4, 5, 4, 2, 1, 3, 5, 6])"
      ]
     },
     "execution_count": 25,
     "metadata": {},
     "output_type": "execute_result"
    }
   ],
   "source": [
    "# Concatenate two arrays\n",
    "np.concatenate([vec1, vec2])"
   ]
  },
  {
   "cell_type": "code",
   "execution_count": 26,
   "id": "ddda225427b69d4c",
   "metadata": {
    "ExecuteTime": {
     "end_time": "2024-01-28T23:57:46.534115Z",
     "start_time": "2024-01-28T23:57:46.522870Z"
    },
    "collapsed": false
   },
   "outputs": [
    {
     "data": {
      "text/plain": [
       "array([0, 1, 2, 3, 4, 5, 4, 2, 1, 3, 5, 6])"
      ]
     },
     "execution_count": 26,
     "metadata": {},
     "output_type": "execute_result"
    }
   ],
   "source": [
    "np.hstack([vec1, vec2])"
   ]
  },
  {
   "cell_type": "code",
   "execution_count": 109,
   "id": "86011e86b0a3c79a",
   "metadata": {
    "ExecuteTime": {
     "end_time": "2024-01-29T00:03:20.452345Z",
     "start_time": "2024-01-29T00:03:20.443719Z"
    },
    "collapsed": false
   },
   "outputs": [
    {
     "data": {
      "text/plain": [
       "array([[0, 1, 2, 3, 4, 5],\n",
       "       [4, 2, 1, 3, 5, 6]])"
      ]
     },
     "execution_count": 109,
     "metadata": {},
     "output_type": "execute_result"
    }
   ],
   "source": [
    "vec3 = np.vstack([vec1, vec2])\n",
    "vec3"
   ]
  },
  {
   "cell_type": "code",
   "execution_count": 111,
   "id": "c1b8e914a04528a4",
   "metadata": {
    "ExecuteTime": {
     "end_time": "2024-01-29T00:25:48.093055Z",
     "start_time": "2024-01-29T00:25:48.083513Z"
    },
    "collapsed": false
   },
   "outputs": [
    {
     "name": "stdout",
     "output_type": "stream",
     "text": [
      "(2, 6)\n"
     ]
    },
    {
     "data": {
      "text/plain": [
       "2"
      ]
     },
     "execution_count": 111,
     "metadata": {},
     "output_type": "execute_result"
    }
   ],
   "source": [
    "# Properties of 2D arrays\n",
    "len(vec3)\n",
    "print(vec3.shape)\n",
    "vec3.ndim"
   ]
  },
  {
   "cell_type": "code",
   "execution_count": 114,
   "id": "8f80af726089deca",
   "metadata": {
    "ExecuteTime": {
     "end_time": "2024-01-29T00:05:05.502848Z",
     "start_time": "2024-01-29T00:05:05.495545Z"
    },
    "collapsed": false
   },
   "outputs": [
    {
     "data": {
      "text/plain": [
       "array([[0, 1, 2],\n",
       "       [3, 4, 5],\n",
       "       [4, 2, 1],\n",
       "       [3, 5, 6]])"
      ]
     },
     "execution_count": 114,
     "metadata": {},
     "output_type": "execute_result"
    }
   ],
   "source": [
    "# Reshaping \n",
    "vec3.reshape(4, 3)"
   ]
  },
  {
   "cell_type": "code",
   "execution_count": 30,
   "id": "102e79ad7f085b7",
   "metadata": {
    "ExecuteTime": {
     "end_time": "2024-01-29T00:45:01.148880Z",
     "start_time": "2024-01-29T00:45:01.138137Z"
    },
    "collapsed": false
   },
   "outputs": [
    {
     "data": {
      "text/plain": [
       "array([[0, 1, 2, 3, 4, 5],\n",
       "       [4, 2, 1, 3, 5, 6]])"
      ]
     },
     "execution_count": 30,
     "metadata": {},
     "output_type": "execute_result"
    }
   ],
   "source": [
    "# Some operations are not done in-place\n",
    "vec3"
   ]
  },
  {
   "cell_type": "code",
   "execution_count": 115,
   "id": "14d53848cb642158",
   "metadata": {
    "ExecuteTime": {
     "end_time": "2024-01-29T00:45:17.045148Z",
     "start_time": "2024-01-29T00:45:17.034292Z"
    },
    "collapsed": false
   },
   "outputs": [
    {
     "data": {
      "text/plain": [
       "dtype('int32')"
      ]
     },
     "execution_count": 115,
     "metadata": {},
     "output_type": "execute_result"
    }
   ],
   "source": [
    "# Numpy arrays datatype\n",
    "vec3.dtype"
   ]
  },
  {
   "cell_type": "code",
   "execution_count": 116,
   "id": "652b94c73bc5e35b",
   "metadata": {
    "ExecuteTime": {
     "end_time": "2024-01-29T00:45:41.221532Z",
     "start_time": "2024-01-29T00:45:41.211714Z"
    },
    "collapsed": false
   },
   "outputs": [
    {
     "data": {
      "text/plain": [
       "array([[0, 1, 2, 3, 4, 5],\n",
       "       [4, 2, 1, 3, 5, 6]])"
      ]
     },
     "execution_count": 116,
     "metadata": {},
     "output_type": "execute_result"
    }
   ],
   "source": [
    "vec3[0, 0] = 0.6\n",
    "vec3"
   ]
  },
  {
   "cell_type": "code",
   "execution_count": 117,
   "id": "f0147e27f93ce49c",
   "metadata": {
    "ExecuteTime": {
     "end_time": "2024-01-29T00:46:26.165215Z",
     "start_time": "2024-01-29T00:46:26.153125Z"
    },
    "collapsed": false
   },
   "outputs": [
    {
     "data": {
      "text/plain": [
       "array([[0.5, 1. , 2. , 3. , 4. , 5. ],\n",
       "       [4. , 2. , 1. , 3. , 5. , 6. ]])"
      ]
     },
     "execution_count": 117,
     "metadata": {},
     "output_type": "execute_result"
    }
   ],
   "source": [
    "vec4 = vec3.astype(float)\n",
    "vec4[0, 0] = 0.5\n",
    "vec4"
   ]
  },
  {
   "cell_type": "markdown",
   "id": "eb64615cf936a7d2",
   "metadata": {
    "collapsed": false
   },
   "source": [
    "## NumPy Array Math Operations"
   ]
  },
  {
   "cell_type": "code",
   "execution_count": 118,
   "id": "c0f2c25ac2c897a6",
   "metadata": {
    "ExecuteTime": {
     "end_time": "2024-01-28T23:58:27.514303Z",
     "start_time": "2024-01-28T23:58:27.507459Z"
    },
    "collapsed": false
   },
   "outputs": [
    {
     "data": {
      "text/plain": [
       "array([ 0,  2,  2,  9, 20, 30])"
      ]
     },
     "execution_count": 118,
     "metadata": {},
     "output_type": "execute_result"
    }
   ],
   "source": [
    "# Back to math, element-wise multiplication\n",
    "vec1 * vec2"
   ]
  },
  {
   "cell_type": "code",
   "execution_count": 37,
   "id": "2f10786c-c151-4194-bde9-defc9309cbc3",
   "metadata": {},
   "outputs": [
    {
     "data": {
      "text/plain": [
       "63"
      ]
     },
     "execution_count": 37,
     "metadata": {},
     "output_type": "execute_result"
    }
   ],
   "source": [
    "vec1 @ vec2  # @ operator means dot product (inner product)"
   ]
  },
  {
   "cell_type": "code",
   "execution_count": 119,
   "id": "73f542d6eb1c05e4",
   "metadata": {
    "ExecuteTime": {
     "end_time": "2024-01-28T23:58:46.492177Z",
     "start_time": "2024-01-28T23:58:46.483662Z"
    },
    "collapsed": false
   },
   "outputs": [
    {
     "data": {
      "text/plain": [
       "array([ 0,  5, 10, 15, 20, 25])"
      ]
     },
     "execution_count": 119,
     "metadata": {},
     "output_type": "execute_result"
    }
   ],
   "source": [
    "# Broadcasting\n",
    "vec1 * 5"
   ]
  },
  {
   "cell_type": "code",
   "execution_count": 40,
   "id": "347040a838b6dbc6",
   "metadata": {
    "ExecuteTime": {
     "end_time": "2024-01-29T19:46:26.746552Z",
     "start_time": "2024-01-29T19:46:26.741038Z"
    },
    "collapsed": false
   },
   "outputs": [
    {
     "data": {
      "text/plain": [
       "array([[8, 7, 6, 1],\n",
       "       [4, 7, 7, 8],\n",
       "       [9, 1, 5, 1],\n",
       "       [5, 9, 3, 8]])"
      ]
     },
     "execution_count": 40,
     "metadata": {},
     "output_type": "execute_result"
    }
   ],
   "source": [
    "# Matrix operations\n",
    "X = (np.random.random((4, 4)) * 10).astype(int)\n",
    "X"
   ]
  },
  {
   "cell_type": "code",
   "execution_count": 41,
   "id": "d37aaabb-8f61-4d36-a73f-92683f6c5096",
   "metadata": {},
   "outputs": [
    {
     "data": {
      "text/plain": [
       "(4, 4)"
      ]
     },
     "execution_count": 41,
     "metadata": {},
     "output_type": "execute_result"
    }
   ],
   "source": [
    "X.shape"
   ]
  },
  {
   "cell_type": "code",
   "execution_count": 42,
   "id": "75a7aab4-d64d-415e-8fde-8a221025d096",
   "metadata": {},
   "outputs": [
    {
     "data": {
      "text/plain": [
       "array([[151, 120, 130,  78],\n",
       "       [163, 156, 132, 131],\n",
       "       [126,  84,  89,  30],\n",
       "       [143, 173, 132, 144]])"
      ]
     },
     "execution_count": 42,
     "metadata": {},
     "output_type": "execute_result"
    }
   ],
   "source": [
    "X @ X"
   ]
  },
  {
   "cell_type": "code",
   "execution_count": 122,
   "id": "4900b8987148f07a",
   "metadata": {
    "ExecuteTime": {
     "end_time": "2024-01-29T19:46:28.247370Z",
     "start_time": "2024-01-29T19:46:28.217136Z"
    },
    "collapsed": false
   },
   "outputs": [
    {
     "data": {
      "text/plain": [
       "array([[3, 0, 8, 5],\n",
       "       [7, 0, 9, 9],\n",
       "       [8, 4, 6, 7],\n",
       "       [0, 1, 6, 2]])"
      ]
     },
     "execution_count": 122,
     "metadata": {},
     "output_type": "execute_result"
    }
   ],
   "source": [
    "# Transpose\n",
    "X.T"
   ]
  },
  {
   "cell_type": "code",
   "execution_count": 123,
   "id": "a357ced6d9d8f45d",
   "metadata": {
    "ExecuteTime": {
     "end_time": "2024-01-29T19:46:33.643316Z",
     "start_time": "2024-01-29T19:46:33.621412Z"
    },
    "collapsed": false
   },
   "outputs": [
    {
     "data": {
      "text/plain": [
       "array([[ 1.51485149, -0.77227723,  0.78217822, -1.96039604],\n",
       "       [-0.81188119,  0.21782178, -0.42574257,  1.16831683],\n",
       "       [ 0.26732673,  0.0990099 ,  0.07920792, -0.28712871],\n",
       "       [-1.06930693,  0.6039604 , -0.31683168,  1.14851485]])"
      ]
     },
     "execution_count": 123,
     "metadata": {},
     "output_type": "execute_result"
    }
   ],
   "source": [
    "# Inverse\n",
    "X_inv = np.linalg.inv(X)\n",
    "X_inv"
   ]
  },
  {
   "cell_type": "code",
   "execution_count": 124,
   "id": "12e7765f039c960b",
   "metadata": {
    "ExecuteTime": {
     "end_time": "2024-01-29T19:46:35.914719Z",
     "start_time": "2024-01-29T19:46:35.906870Z"
    },
    "collapsed": false
   },
   "outputs": [
    {
     "data": {
      "text/plain": [
       "array([[ 1.00000000e+00, -6.66133815e-16, -2.22044605e-16,\n",
       "         4.44089210e-16],\n",
       "       [ 0.00000000e+00,  1.00000000e+00,  0.00000000e+00,\n",
       "         0.00000000e+00],\n",
       "       [-4.44089210e-16, -1.11022302e-15,  1.00000000e+00,\n",
       "         4.44089210e-16],\n",
       "       [-8.88178420e-16, -4.44089210e-16,  1.11022302e-16,\n",
       "         1.00000000e+00]])"
      ]
     },
     "execution_count": 124,
     "metadata": {},
     "output_type": "execute_result"
    }
   ],
   "source": [
    "# Matrix multiplication\n",
    "# AB = A@B\n",
    "X @ X_inv"
   ]
  },
  {
   "cell_type": "code",
   "execution_count": 125,
   "id": "f0a3d8115cf33e07",
   "metadata": {
    "ExecuteTime": {
     "end_time": "2024-01-29T19:46:37.174173Z",
     "start_time": "2024-01-29T19:46:37.154638Z"
    },
    "collapsed": false
   },
   "outputs": [
    {
     "name": "stdout",
     "output_type": "stream",
     "text": [
      "[16 25 25  9]\n"
     ]
    },
    {
     "data": {
      "text/plain": [
       "array([18,  5, 29, 23])"
      ]
     },
     "execution_count": 125,
     "metadata": {},
     "output_type": "execute_result"
    }
   ],
   "source": [
    "# Operations over an axis\n",
    "print(np.sum(X, axis=0)) # Vertical\n",
    "np.sum(X, axis=1) # Horizontal"
   ]
  },
  {
   "cell_type": "code",
   "execution_count": 41,
   "id": "eb9c63085dd01aa4",
   "metadata": {
    "ExecuteTime": {
     "end_time": "2024-01-29T05:13:18.592365Z",
     "start_time": "2024-01-29T05:13:18.572217Z"
    },
    "collapsed": false
   },
   "outputs": [
    {
     "name": "stdout",
     "output_type": "stream",
     "text": [
      "Train accuracy: 75.0%\n"
     ]
    }
   ],
   "source": [
    "# Example: Evaluating Training Accuracy\n",
    "y_train = [0, 1, 1, 0]\n",
    "y_true =  [1, 1, 1, 0]\n",
    "\n",
    "accuracy = np.sum(np.array(y_train) == np.array(y_true)) / len(y_train)\n",
    "print(f'Train accuracy: {accuracy * 100:.4}%')"
   ]
  },
  {
   "cell_type": "markdown",
   "id": "78853a0f86bc279a",
   "metadata": {
    "collapsed": false
   },
   "source": [
    "## NumPy Sampling"
   ]
  },
  {
   "cell_type": "code",
   "execution_count": 42,
   "id": "c0006435130eaa4b",
   "metadata": {
    "ExecuteTime": {
     "end_time": "2024-01-29T00:36:09.027633Z",
     "start_time": "2024-01-29T00:36:09.021487Z"
    },
    "collapsed": false
   },
   "outputs": [
    {
     "data": {
      "text/plain": [
       "1"
      ]
     },
     "execution_count": 42,
     "metadata": {},
     "output_type": "execute_result"
    }
   ],
   "source": [
    "# Flip a coin\n",
    "np.random.seed(1518)\n",
    "np.random.binomial(n=1, p=0.5)"
   ]
  },
  {
   "cell_type": "code",
   "execution_count": 43,
   "id": "417c2e6865a899e6",
   "metadata": {
    "ExecuteTime": {
     "end_time": "2024-01-29T00:36:09.797943Z",
     "start_time": "2024-01-29T00:36:09.790169Z"
    },
    "collapsed": false
   },
   "outputs": [
    {
     "data": {
      "text/plain": [
       "array([0, 0, 0, 1, 1, 1, 1, 1, 1, 1])"
      ]
     },
     "execution_count": 43,
     "metadata": {},
     "output_type": "execute_result"
    }
   ],
   "source": [
    "# Flip 10 coins IID\n",
    "np.random.binomial(n=1, p=0.5, size=10)"
   ]
  },
  {
   "cell_type": "code",
   "execution_count": 44,
   "id": "3aa2ebd68b809f2e",
   "metadata": {
    "ExecuteTime": {
     "end_time": "2024-01-29T00:36:10.822273Z",
     "start_time": "2024-01-29T00:36:10.815761Z"
    },
    "collapsed": false
   },
   "outputs": [
    {
     "data": {
      "text/plain": [
       "5"
      ]
     },
     "execution_count": 44,
     "metadata": {},
     "output_type": "execute_result"
    }
   ],
   "source": [
    "# Flip 10 coins and count number of heads\n",
    "np.random.binomial(n=10, p=0.5)"
   ]
  },
  {
   "cell_type": "code",
   "execution_count": 45,
   "id": "c478ae614f40b65f",
   "metadata": {
    "ExecuteTime": {
     "end_time": "2024-01-29T00:36:13.540291Z",
     "start_time": "2024-01-29T00:36:13.532871Z"
    },
    "collapsed": false
   },
   "outputs": [
    {
     "data": {
      "text/plain": [
       "array([6, 3, 1, 5, 2, 4])"
      ]
     },
     "execution_count": 45,
     "metadata": {},
     "output_type": "execute_result"
    }
   ],
   "source": [
    "# Shuffling\n",
    "data = np.array([1, 2, 3, 4, 5, 6])\n",
    "np.random.shuffle(data)\n",
    "data"
   ]
  },
  {
   "cell_type": "code",
   "execution_count": 46,
   "id": "cea7f858cdb6fd0d",
   "metadata": {
    "ExecuteTime": {
     "end_time": "2024-01-29T00:34:05.770949Z",
     "start_time": "2024-01-29T00:34:05.763190Z"
    },
    "collapsed": false
   },
   "outputs": [
    {
     "data": {
      "text/plain": [
       "4"
      ]
     },
     "execution_count": 46,
     "metadata": {},
     "output_type": "execute_result"
    }
   ],
   "source": [
    "# Better solution\n",
    "data = np.array([1, 2, 3, 4, 5, 6])\n",
    "np.random.choice(data)"
   ]
  },
  {
   "cell_type": "code",
   "execution_count": 47,
   "id": "ec843b03e837f452",
   "metadata": {
    "ExecuteTime": {
     "end_time": "2024-01-29T00:39:13.654947Z",
     "start_time": "2024-01-29T00:39:13.635903Z"
    },
    "collapsed": false
   },
   "outputs": [
    {
     "data": {
      "text/plain": [
       "array([-0.70142666, -0.52730675])"
      ]
     },
     "execution_count": 47,
     "metadata": {},
     "output_type": "execute_result"
    }
   ],
   "source": [
    "# Multivariate normal\n",
    "means = [0, 0]\n",
    "sigma = np.identity(2)\n",
    "np.random.multivariate_normal(means, sigma)"
   ]
  },
  {
   "cell_type": "markdown",
   "id": "54338021e03f3162",
   "metadata": {
    "collapsed": false
   },
   "source": [
    "Summary:\n",
    "- numpy arrays are very fast for operations we want to use compared to lists\n",
    "- numpy arrays sizes/dimensions are fixed in place\n",
    "- The numpy library contains a wide variety of tools to help us, sometimes overlapping with other\n",
    "- Numpy arrays only support one datatype"
   ]
  },
  {
   "cell_type": "markdown",
   "id": "8c35be7d-dec5-4f56-9800-fa213c874d89",
   "metadata": {},
   "source": [
    "# Part 3: How to Define a Python Class\n",
    "\n",
    "Why we need Class: easier to manage different instances with different attributes."
   ]
  },
  {
   "cell_type": "code",
   "execution_count": 45,
   "id": "fa03baab-b641-4fd0-8c39-b5e8480d37d2",
   "metadata": {},
   "outputs": [],
   "source": [
    "class Dog:\n",
    "    def __init__(self, name, age, gender, breed):\n",
    "        self.name = name  # Attribute\n",
    "        self.age = age\n",
    "        self.gender = gender\n",
    "        self.breed = breed\n",
    "\n",
    "    # Method\n",
    "    def bark(self, repeat_times=3):\n",
    "        print(\"Woof! \" * repeat_times)\n",
    "\n",
    "    # Method\n",
    "    def introduce(self):\n",
    "        print(f\"my name is {self.name}, I am a {self.age} years old {self.gender} {self.breed} dog.\")"
   ]
  },
  {
   "cell_type": "code",
   "execution_count": 46,
   "id": "b16611a6-4abc-4a55-b579-b9b53c82cee8",
   "metadata": {},
   "outputs": [],
   "source": [
    "# Instance == a special case / instantiation / example of class\n",
    "bc_dog = Dog(name='coco', age=1, gender='female', breed='border collie')"
   ]
  },
  {
   "cell_type": "code",
   "execution_count": 47,
   "id": "5b3682f7-db81-4ff5-a16c-d2dc68dfb82c",
   "metadata": {},
   "outputs": [
    {
     "data": {
      "text/plain": [
       "<__main__.Dog at 0x1c0ef6a1f70>"
      ]
     },
     "execution_count": 47,
     "metadata": {},
     "output_type": "execute_result"
    }
   ],
   "source": [
    "bc_dog"
   ]
  },
  {
   "cell_type": "code",
   "execution_count": 49,
   "id": "93405441-8763-4a74-bb78-deffd276a40d",
   "metadata": {},
   "outputs": [
    {
     "name": "stdout",
     "output_type": "stream",
     "text": [
      "Woof! Woof! Woof! Woof! Woof! Woof! Woof! Woof! Woof! Woof! \n"
     ]
    }
   ],
   "source": [
    "bc_dog.bark(repeat_times=10)"
   ]
  },
  {
   "cell_type": "code",
   "execution_count": 50,
   "id": "5119124c-97ca-4568-9baf-d829d77cb40d",
   "metadata": {},
   "outputs": [
    {
     "name": "stdout",
     "output_type": "stream",
     "text": [
      "my name is coco, I am a 1 years old female border collie dog.\n"
     ]
    }
   ],
   "source": [
    "bc_dog.introduce()"
   ]
  },
  {
   "cell_type": "code",
   "execution_count": 51,
   "id": "b9774408-50d4-4c8c-9bb9-63d8fec4c111",
   "metadata": {},
   "outputs": [],
   "source": [
    "# Instance == a special case / instantiation / example of class\n",
    "la_dog = Dog(name='marko', age=5, gender='male', breed='labrador')"
   ]
  },
  {
   "cell_type": "code",
   "execution_count": 52,
   "id": "bb66bf4e-8657-4084-96b6-48f2e10d7ac7",
   "metadata": {},
   "outputs": [
    {
     "name": "stdout",
     "output_type": "stream",
     "text": [
      "Woof! Woof! Woof! \n"
     ]
    }
   ],
   "source": [
    "la_dog.bark()"
   ]
  },
  {
   "cell_type": "code",
   "execution_count": 53,
   "id": "37d484f4-b999-48ef-b02d-3bdc7135277a",
   "metadata": {},
   "outputs": [
    {
     "name": "stdout",
     "output_type": "stream",
     "text": [
      "my name is marko, I am a 5 years old male labrador dog.\n"
     ]
    }
   ],
   "source": [
    "la_dog.introduce()"
   ]
  },
  {
   "cell_type": "markdown",
   "id": "c0a90e86-32a9-4baf-807a-aa6c12b321eb",
   "metadata": {},
   "source": [
    "# Part 4: Python Class of Single Layer Perceptron Classifier for XOR, AND Examples\n",
    "\n",
    "XOR examples cannot be solved by Single Layer Perceptron, while AND examples can.\n",
    "\n",
    "The following code matches slide page 6/29 CH1_Sec3 Perceptron Machine and Universal Approximation.pdf."
   ]
  },
  {
   "cell_type": "code",
   "execution_count": 56,
   "id": "b3c011e9-a6e4-4d86-99f6-88e3e86380fa",
   "metadata": {},
   "outputs": [
    {
     "name": "stdout",
     "output_type": "stream",
     "text": [
      "Epoch 0, Total Loss: 3 Weights: (array([0.83578739, 0.98571061]), -0.22018116833206536)\n",
      "Epoch 1000, Total Loss: 0 Weights: (array([1.83578739, 0.98571061]), -2.2201811683320654)\n",
      "Epoch 2000, Total Loss: 0 Weights: (array([1.83578739, 0.98571061]), -2.2201811683320654)\n",
      "Epoch 3000, Total Loss: 0 Weights: (array([1.83578739, 0.98571061]), -2.2201811683320654)\n",
      "Epoch 4000, Total Loss: 0 Weights: (array([1.83578739, 0.98571061]), -2.2201811683320654)\n",
      "Epoch 5000, Total Loss: 0 Weights: (array([1.83578739, 0.98571061]), -2.2201811683320654)\n",
      "Epoch 6000, Total Loss: 0 Weights: (array([1.83578739, 0.98571061]), -2.2201811683320654)\n",
      "Epoch 7000, Total Loss: 0 Weights: (array([1.83578739, 0.98571061]), -2.2201811683320654)\n",
      "Epoch 8000, Total Loss: 0 Weights: (array([1.83578739, 0.98571061]), -2.2201811683320654)\n",
      "Epoch 9000, Total Loss: 0 Weights: (array([1.83578739, 0.98571061]), -2.2201811683320654)\n",
      "Predicted label [0 0 0 1]\n",
      "True label [0 0 0 1]\n",
      "Accuracy: 100.0%\n"
     ]
    }
   ],
   "source": [
    "import numpy as np\n",
    "\n",
    "# Machine Learning Model class\n",
    "class SingleLayerPerceptron:\n",
    "    def __init__(self, input_size, epochs=10000):\n",
    "        # Initialize weights and bias\n",
    "        self.weights = np.random.uniform(-1, 1, input_size)\n",
    "        self.bias = np.random.uniform(-1, 1)\n",
    "        self.epochs = epochs\n",
    "\n",
    "\n",
    "    # Method: Forward pass\n",
    "    def forward(self, x):\n",
    "        linear_output = np.dot(x, self.weights) + self.bias   # y = Xw + b\n",
    "        return linear_output\n",
    "\n",
    "    # Indicator loss function (0-1 loss)\n",
    "    def indicator_loss(self, y_true, y_pred):\n",
    "        return np.sum(y_pred != y_true)  # Count mismatches (1 if incorrect, 0 if correct)\n",
    "\n",
    "    # Training the perceptron using gradient descent\n",
    "    def train(self, X, y):\n",
    "        for epoch in range(self.epochs):\n",
    "            total_loss = 0  # Track total loss for this epoch\n",
    "            \n",
    "            for i in range(len(X)):\n",
    "                # Forward pass\n",
    "                z = self.forward(X[i])\n",
    "                y_pred = np.where(z >= 0, 1, 0)\n",
    "\n",
    "                # Calculate the indicator loss for current prediction\n",
    "                loss = self.indicator_loss(y[i], y_pred)\n",
    "\n",
    "                # If there's a mismatch, perform weight update (Gradient Descent)\n",
    "                if loss > 0:\n",
    "                    self.weights -= np.sign(z) * X[i]\n",
    "                    self.bias -= np.sign(z)\n",
    "                \n",
    "                total_loss += loss\n",
    "\n",
    "            # Print the total loss every 1000 epochs for monitoring\n",
    "            if epoch % 1000 == 0:\n",
    "                print(f'Epoch {epoch}, Total Loss: {total_loss} Weights: {self.weights, self.bias}')\n",
    "\n",
    "    # Prediction method\n",
    "    def predict(self, X):\n",
    "        output = self.forward(X)\n",
    "        return np.where(output >= 0, 1, 0)\n",
    "\n",
    "\n",
    "\n",
    "# XOR dataset: can't be solved by single layer perceptron\n",
    "# X = np.array([[0, 0], [0, 1], [1, 0], [1, 1]])\n",
    "# y = np.array([0, 1, 1, 0])\n",
    "\n",
    "# AND dataset: can be solved by single layer perceptron\n",
    "X = np.array([[0, 0], [0, 1], [1, 0], [1, 1]])\n",
    "y = np.array([0, 0, 0, 1])\n",
    "\n",
    "# OR dataset: can be solved by single layer perceptron\n",
    "# X = np.array([[0, 0], [0, 1], [1, 0], [1, 1]])\n",
    "# y = np.array([0, 1, 1, 1])\n",
    "\n",
    "# Initialize the perceptron with 2-dimensional inputs\n",
    "perceptron = SingleLayerPerceptron(input_size=2)\n",
    "\n",
    "# Train the perceptron\n",
    "perceptron.train(X, y)\n",
    "\n",
    "# Predictions\n",
    "predictions = perceptron.predict(X)\n",
    "print(\"Predicted label\", predictions)\n",
    "print(\"True label\", y)\n",
    "\n",
    "print(f\"Accuracy: {100*np.sum(predictions == y) / len(y)}%\")\n",
    "# plt.plot(perceptron.loss_history)\n",
    "# plt.xlabel('Epoch')\n",
    "# plt.ylabel('Loss')"
   ]
  },
  {
   "cell_type": "markdown",
   "id": "de0cfbde-6864-4e2e-9349-7a09ff88ca49",
   "metadata": {},
   "source": [
    "# Part 5: Q&A"
   ]
  },
  {
   "cell_type": "code",
   "execution_count": null,
   "id": "1735a7f6-7f7a-4517-954a-4e24749017a7",
   "metadata": {},
   "outputs": [],
   "source": []
  }
 ],
 "metadata": {
  "kernelspec": {
   "display_name": "Python 3 (ipykernel)",
   "language": "python",
   "name": "python3"
  },
  "language_info": {
   "codemirror_mode": {
    "name": "ipython",
    "version": 3
   },
   "file_extension": ".py",
   "mimetype": "text/x-python",
   "name": "python",
   "nbconvert_exporter": "python",
   "pygments_lexer": "ipython3",
   "version": "3.9.18"
  }
 },
 "nbformat": 4,
 "nbformat_minor": 5
}
