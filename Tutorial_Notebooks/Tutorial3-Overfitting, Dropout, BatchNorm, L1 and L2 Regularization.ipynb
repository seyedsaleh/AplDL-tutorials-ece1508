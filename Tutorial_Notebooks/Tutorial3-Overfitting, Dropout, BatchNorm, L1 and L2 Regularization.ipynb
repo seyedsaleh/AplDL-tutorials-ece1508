{
 "cells": [
  {
   "cell_type": "markdown",
   "id": "2278558c-79b6-4924-a36f-798a45696a64",
   "metadata": {},
   "source": [
    "# Tutorial 4: Underfitting and Overfitting: How to Prevent Them"
   ]
  },
  {
   "cell_type": "markdown",
   "id": "e8b5d744-8b99-41f3-9b85-13ca0f4ef76a",
   "metadata": {},
   "source": [
    "## Implementing an Overfitted Model"
   ]
  },
  {
   "cell_type": "markdown",
   "id": "eaded1aa-690b-4563-99a3-7efad6d9046b",
   "metadata": {},
   "source": [
    "Through this tutorial you further learn how to use `torch.nn` module of torch to implement a neural network in only few lines of code.\n",
    "\n",
    "We first import all required packages."
   ]
  },
  {
   "cell_type": "code",
   "execution_count": 1,
   "id": "6521ecf6",
   "metadata": {
    "ExecuteTime": {
     "end_time": "2025-10-03T17:25:35.178896300Z",
     "start_time": "2025-10-03T17:25:25.947360500Z"
    }
   },
   "outputs": [],
   "source": [
    "# We import torch and the nn module\n",
    "import torch\n",
    "import torch.nn as nn\n",
    "\n",
    "# We import NumPy and tqdm\n",
    "import numpy as np\n",
    "from tqdm import tqdm\n",
    "\n",
    "# We need few items from Scikit-Learn\n",
    "import sklearn.datasets as DataSets\n",
    "from sklearn.model_selection import train_test_split\n",
    "\n",
    "# Also we need to plot few curves\n",
    "import matplotlib.pyplot as plt"
   ]
  },
  {
   "cell_type": "markdown",
   "id": "1e517ef1",
   "metadata": {},
   "source": [
    "### Task 1: Make Training Mini-Batches"
   ]
  },
  {
   "cell_type": "code",
   "execution_count": 26,
   "id": "b32adbcc",
   "metadata": {
    "ExecuteTime": {
     "end_time": "2024-03-07T18:07:29.715789Z",
     "start_time": "2024-03-07T18:07:29.669591Z"
    }
   },
   "outputs": [],
   "source": [
    "dataset = DataSets.make_classification(n_samples = 10000\n",
    "                                       , n_features = 20\n",
    "                                       , n_informative=5\n",
    "                                       , n_redundant=15\n",
    "                                       , random_state=1)\n",
    "X, v = dataset"
   ]
  },
  {
   "cell_type": "code",
   "execution_count": 27,
   "id": "4bf10b9901c26d6",
   "metadata": {
    "ExecuteTime": {
     "end_time": "2024-03-07T18:07:29.812264Z",
     "start_time": "2024-03-07T18:07:29.736737Z"
    },
    "collapsed": false
   },
   "outputs": [
    {
     "data": {
      "text/plain": [
       "(10000, 20)"
      ]
     },
     "execution_count": 27,
     "metadata": {},
     "output_type": "execute_result"
    }
   ],
   "source": [
    "X.shape"
   ]
  },
  {
   "cell_type": "code",
   "execution_count": 28,
   "id": "6d835b3b25ff5a5a",
   "metadata": {
    "ExecuteTime": {
     "end_time": "2024-03-07T18:07:29.821087Z",
     "start_time": "2024-03-07T18:07:29.815606Z"
    },
    "collapsed": false
   },
   "outputs": [
    {
     "data": {
      "text/plain": [
       "1"
      ]
     },
     "execution_count": 28,
     "metadata": {},
     "output_type": "execute_result"
    }
   ],
   "source": [
    "v[0]"
   ]
  },
  {
   "cell_type": "markdown",
   "id": "2d2a6c00",
   "metadata": {},
   "source": [
    "Below you can implement the function"
   ]
  },
  {
   "cell_type": "code",
   "execution_count": 29,
   "id": "6168c18e",
   "metadata": {
    "ExecuteTime": {
     "end_time": "2024-03-07T18:07:29.831302Z",
     "start_time": "2024-03-07T18:07:29.825811Z"
    }
   },
   "outputs": [],
   "source": [
    "def data_splitter(X, v, batch_size, train_size):\n",
    "    '''\n",
    "    X is list of data-points\n",
    "    v is list of labels\n",
    "    train_size is the fraction of data-points used for training\n",
    "    '''\n",
    "    X_train, X_test, v_train, v_test = train_test_split(X, v\n",
    "        , train_size=train_size\n",
    "        , shuffle = True\n",
    "        )\n",
    "    X_train = torch.tensor(X_train,dtype=torch.float32)\n",
    "    v_train = torch.tensor(v_train,dtype=torch.float32).reshape(-1,1)\n",
    "    X_test = torch.tensor(X_test ,dtype=torch.float32)\n",
    "    v_test = torch.tensor(v_test ,dtype=torch.float32).reshape(-1, 1)\n",
    "    batch_indx = torch.arange(0, len(X_train), step=batch_size)\n",
    "    return X_train, v_train, X_test, v_test, batch_indx"
   ]
  },
  {
   "cell_type": "code",
   "execution_count": 30,
   "id": "351441f5346063a6",
   "metadata": {
    "ExecuteTime": {
     "end_time": "2024-03-07T18:07:29.839075Z",
     "start_time": "2024-03-07T18:07:29.833593Z"
    },
    "collapsed": false
   },
   "outputs": [],
   "source": [
    "X_train, v_train, X_test, v_test, batch_indx = data_splitter(X, v, batch_size=1000, train_size=0.65)"
   ]
  },
  {
   "cell_type": "code",
   "execution_count": 31,
   "id": "e288378e538858b5",
   "metadata": {
    "ExecuteTime": {
     "end_time": "2024-03-07T18:07:29.846254Z",
     "start_time": "2024-03-07T18:07:29.840700Z"
    },
    "collapsed": false
   },
   "outputs": [
    {
     "data": {
      "text/plain": [
       "tensor([   0, 1000, 2000, 3000, 4000, 5000, 6000])"
      ]
     },
     "execution_count": 31,
     "metadata": {},
     "output_type": "execute_result"
    }
   ],
   "source": [
    "batch_indx"
   ]
  },
  {
   "cell_type": "markdown",
   "id": "45c87e1d",
   "metadata": {},
   "source": [
    "### Task 2: Implementing an FNN\n",
    "\n",
    "For this task you can use `nn.Layer()`. You mainly need to complete the following `class`."
   ]
  },
  {
   "cell_type": "code",
   "execution_count": 69,
   "id": "ceba5e02",
   "metadata": {
    "ExecuteTime": {
     "end_time": "2024-03-07T18:07:29.851971Z",
     "start_time": "2024-03-07T18:07:29.847555Z"
    }
   },
   "outputs": [],
   "source": [
    "class myClassifier(nn.Module):\n",
    "    def __init__(self, show_print=False):\n",
    "        super().__init__()\n",
    "\n",
    "        self.show_print = show_print\n",
    "\n",
    "        self.layer1 = nn.Linear(20, 64)\n",
    "        self.active1 = nn.ReLU()\n",
    "\n",
    "        self.layer2 = nn.Linear(64, 32)\n",
    "        self.active2 = nn.ReLU()\n",
    "\n",
    "        self.output = nn.Linear(32, 1)\n",
    "        self.sigmoid = nn.Sigmoid()\n",
    "        \n",
    "    def forward(self, x):\n",
    "        if self.show_print: print(\"input shape\", x.shape)\n",
    "        \n",
    "        x = self.active1(self.layer1(x))\n",
    "        if self.show_print: print(\"shape after first hidden layer\", x.shape)\n",
    "        \n",
    "        x = self.active2(self.layer2(x))\n",
    "        if self.show_print: print(\"shape after second hidden layer\", x.shape)\n",
    "        \n",
    "        x = self.sigmoid(self.output(x))\n",
    "        if self.show_print: print(\"shape after output layer\", x.shape)\n",
    "        return x"
   ]
  },
  {
   "cell_type": "code",
   "execution_count": 70,
   "id": "fe150b11550a54ff",
   "metadata": {
    "ExecuteTime": {
     "end_time": "2024-03-07T18:07:29.861712Z",
     "start_time": "2024-03-07T18:07:29.853672Z"
    },
    "collapsed": false
   },
   "outputs": [
    {
     "name": "stdout",
     "output_type": "stream",
     "text": [
      "input shape torch.Size([4, 20])\n",
      "shape after first hidden layer torch.Size([4, 64])\n",
      "shape after second hidden layer torch.Size([4, 32])\n",
      "shape after output layer torch.Size([4, 1])\n"
     ]
    },
    {
     "data": {
      "text/plain": [
       "tensor([[0.4494],\n",
       "        [0.4238],\n",
       "        [0.3630],\n",
       "        [0.4616]], grad_fn=<SigmoidBackward0>)"
      ]
     },
     "execution_count": 70,
     "metadata": {},
     "output_type": "execute_result"
    }
   ],
   "source": [
    "classifier = myClassifier(show_print=True)\n",
    "\n",
    "# Input four datapoints\n",
    "classifier.forward(X_train[1:5])"
   ]
  },
  {
   "cell_type": "code",
   "execution_count": 71,
   "id": "f326e18490da7c69",
   "metadata": {
    "ExecuteTime": {
     "end_time": "2024-03-07T18:07:29.869147Z",
     "start_time": "2024-03-07T18:07:29.863631Z"
    },
    "collapsed": false
   },
   "outputs": [
    {
     "data": {
      "text/plain": [
       "tensor([[0.],\n",
       "        [1.],\n",
       "        [1.],\n",
       "        [1.]])"
      ]
     },
     "execution_count": 71,
     "metadata": {},
     "output_type": "execute_result"
    }
   ],
   "source": [
    "v_test[1:5]"
   ]
  },
  {
   "cell_type": "markdown",
   "id": "67dc167c",
   "metadata": {},
   "source": [
    "### Task 3: Backpropagation and Optimizer\n",
    "We now learn how we can use the autograd of PyTorch to implement backpropagation. Simply complete the following code and run it to see how autograd works."
   ]
  },
  {
   "cell_type": "code",
   "execution_count": 62,
   "id": "453c2fb1",
   "metadata": {
    "ExecuteTime": {
     "end_time": "2024-03-07T18:07:29.911063Z",
     "start_time": "2024-03-07T18:07:29.871063Z"
    }
   },
   "outputs": [
    {
     "name": "stdout",
     "output_type": "stream",
     "text": [
      "input shape torch.Size([20])\n"
     ]
    }
   ],
   "source": [
    "# first, instantiate the model \n",
    "myModel = myClassifier()\n",
    "# now, define the loss\n",
    "loss_fn = nn.BCELoss()\n",
    "\n",
    "# split the dataset via function data_splitter()\n",
    "X_train, v_train, X_test, v_test, batch_indx = data_splitter(X, v, batch_size=1000, train_size=0.65)\n",
    "\n",
    "# take a sample point from training dataset\n",
    "x, v_ =  X_train[0], v_train[0]\n",
    "\n",
    "# forward pass\n",
    "y = myModel.forward(x)\n",
    "Loss = loss_fn(y, v_)\n",
    "\n",
    "# backward pass\n",
    "Loss.backward()"
   ]
  },
  {
   "cell_type": "markdown",
   "id": "dd464b52",
   "metadata": {},
   "source": [
    "We can now access the computed gradient of the loss with respect to the output bias using the following code."
   ]
  },
  {
   "cell_type": "code",
   "execution_count": 63,
   "id": "8470a2ed",
   "metadata": {
    "ExecuteTime": {
     "end_time": "2024-03-07T18:07:29.919541Z",
     "start_time": "2024-03-07T18:07:29.913788Z"
    }
   },
   "outputs": [
    {
     "data": {
      "text/plain": [
       "tensor([0.4636])"
      ]
     },
     "execution_count": 63,
     "metadata": {},
     "output_type": "execute_result"
    }
   ],
   "source": [
    "myModel.output.bias.grad"
   ]
  },
  {
   "cell_type": "code",
   "execution_count": 64,
   "id": "9a41bfa4a9b103c5",
   "metadata": {
    "ExecuteTime": {
     "end_time": "2024-03-07T18:07:29.927790Z",
     "start_time": "2024-03-07T18:07:29.921328Z"
    },
    "collapsed": false
   },
   "outputs": [
    {
     "data": {
      "text/plain": [
       "tensor([[ 0.0246,  0.0077, -0.0395,  ...,  0.0200,  0.0089,  0.0326],\n",
       "        [-0.0273, -0.0086,  0.0439,  ..., -0.0223, -0.0099, -0.0362],\n",
       "        [-0.0110, -0.0034,  0.0176,  ..., -0.0089, -0.0040, -0.0145],\n",
       "        ...,\n",
       "        [ 0.0000,  0.0000, -0.0000,  ...,  0.0000,  0.0000,  0.0000],\n",
       "        [-0.0037, -0.0011,  0.0059,  ..., -0.0030, -0.0013, -0.0049],\n",
       "        [ 0.0000,  0.0000, -0.0000,  ...,  0.0000,  0.0000,  0.0000]])"
      ]
     },
     "execution_count": 64,
     "metadata": {},
     "output_type": "execute_result"
    }
   ],
   "source": [
    "myModel.layer1.weight.grad"
   ]
  },
  {
   "cell_type": "code",
   "execution_count": 65,
   "id": "f2fe1150c08cc39d",
   "metadata": {
    "ExecuteTime": {
     "end_time": "2024-03-07T18:07:29.943433Z",
     "start_time": "2024-03-07T18:07:29.940786Z"
    },
    "collapsed": false
   },
   "outputs": [
    {
     "data": {
      "text/plain": [
       "torch.Size([64, 20])"
      ]
     },
     "execution_count": 65,
     "metadata": {},
     "output_type": "execute_result"
    }
   ],
   "source": [
    "myModel.layer1.weight.grad.shape"
   ]
  },
  {
   "cell_type": "markdown",
   "id": "d243b963",
   "metadata": {},
   "source": [
    "We can further define the optimizer for our model as follows:"
   ]
  },
  {
   "cell_type": "code",
   "execution_count": 72,
   "id": "1f6f39e3",
   "metadata": {
    "ExecuteTime": {
     "end_time": "2024-03-07T18:07:29.946655Z",
     "start_time": "2024-03-07T18:07:29.944171Z"
    }
   },
   "outputs": [],
   "source": [
    "# first, instantiate the model \n",
    "myModel = myClassifier()\n",
    "\n",
    "# now define the optimizer\n",
    "optimizer = torch.optim.Adam(params=myModel.parameters()# pass the model parameters\n",
    "                        , lr=0.0001 # this specifies the learning rate\n",
    "                        )"
   ]
  },
  {
   "cell_type": "markdown",
   "id": "83bce652",
   "metadata": {},
   "source": [
    "### Task 4: Implementing Training and Test Loop\n",
    "Now that we have all the components, we put all these components together to implement the training loop."
   ]
  },
  {
   "cell_type": "code",
   "execution_count": 74,
   "id": "58f89538",
   "metadata": {
    "ExecuteTime": {
     "end_time": "2024-03-07T18:07:29.950639Z",
     "start_time": "2024-03-07T18:07:29.947229Z"
    }
   },
   "outputs": [],
   "source": [
    "def training_loop(model, weight_decay=0, l1_regularizer=False, l1_lambda=0):\n",
    "    '''\n",
    "    parameters:\n",
    "        model: an instance of nn.Module\n",
    "        weight_decay: float, L2 regularization coefficient\n",
    "        l1_regularizer: boolean, whether to use L1 regularization\n",
    "        l1_lambda: float, L1 regularization coefficient\n",
    "    '''\n",
    "    \n",
    "    # define the loss and optimizer\n",
    "    loss_fn = nn.BCELoss() # binary cross-entropy\n",
    "    optimizer = torch.optim.Adam(params=model.parameters()\n",
    "                                 , lr=0.0001 # this specifies the learning rate\n",
    "                                 , weight_decay= weight_decay\n",
    "                                 )\n",
    "\n",
    "    # set the training parameters\n",
    "    n_epochs = 300   # number of epochs\n",
    "    batch_size = 40  # batch size\n",
    "\n",
    "    # specify training and test datasets and the batch indices\n",
    "    # use data_splitter() and X, v are generated by Scikit-Learn\n",
    "    X_train, v_train, X_test, v_test, batch_indx = data_splitter(X, v, batch_size=batch_size, train_size=0.80)\n",
    "\n",
    "    # make empty list to save training and test risk\n",
    "    train_risk = []\n",
    "    test_risk = []\n",
    "\n",
    "    # training loop\n",
    "\n",
    "    # we visualize the training progress via tqdm\n",
    "    with tqdm(range(n_epochs), unit=\"epoch\") as epoch_bar:\n",
    "        epoch_bar.set_description(\"training loop\")\n",
    "        for epoch in epoch_bar:\n",
    "\n",
    "            # tell pytorch that you start training\n",
    "            model.train()\n",
    "\n",
    "            for indx in batch_indx:\n",
    "                # take a batch of samples\n",
    "                X_batch = X_train[indx:indx+batch_size]\n",
    "                v_batch = v_train[indx:indx+batch_size]\n",
    "\n",
    "                # pass forward the mini-batch\n",
    "                y_batch = model.forward(X_batch)\n",
    "\n",
    "                # compute the loss\n",
    "                loss = loss_fn(y_batch, v_batch)\n",
    "\n",
    "                if l1_regularizer:\n",
    "                    l1_penalty = 0\n",
    "                    for param in model.parameters():\n",
    "                        l1_penalty += torch.sum(torch.abs(param))\n",
    "                    \n",
    "                    loss = loss + l1_lambda * l1_penalty  # Add L1 penalty to the loss\n",
    "                \n",
    "                # backward pass\n",
    "                # first make gradient zero\n",
    "                optimizer.zero_grad()\n",
    "                # then, compute the gradient of loss\n",
    "                loss.backward()\n",
    "                # now update weights by one optimization step\n",
    "                optimizer.step()\n",
    "\n",
    "            # we are done with one epoch\n",
    "            # we now evaluate training and test risks\n",
    "            # first we tell pytorch we are doing evaluation\n",
    "            model.eval()\n",
    "\n",
    "            # now we evaluate the training risk\n",
    "            y_train = model.forward(X_train)\n",
    "            CE_train = loss_fn(y_train, v_train)\n",
    "            train_risk.append(CE_train.item())\n",
    "\n",
    "            # then we evaluate the test risk\n",
    "            y_test = model.forward(X_test)\n",
    "            CE_test = loss_fn(y_test, v_test)\n",
    "            test_risk.append(CE_test.item())\n",
    "        return train_risk, test_risk"
   ]
  },
  {
   "cell_type": "markdown",
   "id": "c3cf7430",
   "metadata": {},
   "source": [
    "We can now try training our model by passing the model to the training loop:"
   ]
  },
  {
   "cell_type": "code",
   "execution_count": 76,
   "id": "9dfc551f",
   "metadata": {
    "ExecuteTime": {
     "end_time": "2024-03-07T18:17:40.366770Z",
     "start_time": "2024-03-07T18:17:24.007278Z"
    }
   },
   "outputs": [
    {
     "name": "stderr",
     "output_type": "stream",
     "text": [
      "training loop: 100%|█████████████████████████████████████████████████████████████████████████████████| 300/300 [01:14<00:00,  4.01epoch/s]\n"
     ]
    },
    {
     "data": {
      "image/png": "[encoded data removed]",
      "text/plain": [
       "<Figure size 640x480 with 1 Axes>"
      ]
     },
     "metadata": {},
     "output_type": "display_data"
    }
   ],
   "source": [
    "myModel = myClassifier()\n",
    "train_risk, test_risk = training_loop(myModel)\n",
    "\n",
    "plt.plot(train_risk, label='Train')\n",
    "plt.plot(test_risk, label='Test')\n",
    "plt.xlabel('Epoch')\n",
    "plt.ylabel('Risk')\n",
    "plt.legend()\n",
    "plt.show()"
   ]
  },
  {
   "cell_type": "markdown",
   "id": "a156524e",
   "metadata": {},
   "source": [
    "### Task 5: Overfitting\n",
    "Now we increase the model capacity to see the overfitting clearly. This can be done by completing the following code."
   ]
  },
  {
   "cell_type": "code",
   "execution_count": 33,
   "id": "151c46f8",
   "metadata": {
    "ExecuteTime": {
     "end_time": "2024-03-07T18:07:45.936470Z",
     "start_time": "2024-03-07T18:07:45.932046Z"
    }
   },
   "outputs": [],
   "source": [
    "class overfitClassifier(nn.Module):\n",
    "    def __init__(self):\n",
    "        super().__init__()\n",
    "\n",
    "        self.layer1 = nn.Linear(20, 200)\n",
    "        self.active1 = nn.ReLU()\n",
    "\n",
    "        self.layer2 = nn.Linear(200, 120)\n",
    "        self.active2 = nn.ReLU()\n",
    "\n",
    "        self.layer3 = nn.Linear(120, 70)\n",
    "        self.active3 = nn.ReLU()\n",
    "\n",
    "        self.layer4 = nn.Linear(70, 50)\n",
    "        self.active4 = nn.ReLU()\n",
    "\n",
    "        self.layer5 = nn.Linear(50, 30)\n",
    "        self.active5 = nn.ReLU()\n",
    "\n",
    "        self.output = nn.Linear(30, 1)\n",
    "        self.sigmoid = nn.Sigmoid()\n",
    "\n",
    "    def forward(self, x):\n",
    "        x = self.active1(self.layer1(x))\n",
    "        x = self.active2(self.layer2(x))\n",
    "        x = self.active3(self.layer3(x))\n",
    "        x = self.active4(self.layer4(x))\n",
    "        x = self.active5(self.layer5(x))\n",
    "        x = self.sigmoid(self.output(x))\n",
    "        return x"
   ]
  },
  {
   "cell_type": "markdown",
   "id": "3dae8e36",
   "metadata": {},
   "source": [
    "We now try training this model and look at the learning curves."
   ]
  },
  {
   "cell_type": "code",
   "execution_count": 19,
   "id": "408d8ab7",
   "metadata": {
    "ExecuteTime": {
     "end_time": "2024-03-07T18:08:34.049048Z",
     "start_time": "2024-03-07T18:07:45.939003Z"
    }
   },
   "outputs": [
    {
     "name": "stderr",
     "output_type": "stream",
     "text": [
      "training loop: 100%|██████████| 300/300 [00:48<00:00,  6.25epoch/s]\n"
     ]
    },
    {
     "data": {
      "image/png": "[encoded data removed]",
      "text/plain": [
       "<Figure size 640x480 with 1 Axes>"
      ]
     },
     "metadata": {},
     "output_type": "display_data"
    }
   ],
   "source": [
    "not_regularized_model = overfitClassifier()\n",
    "train_risk, test_risk = training_loop(not_regularized_model) # complete\n",
    "\n",
    "plt.plot(train_risk, label='Train')\n",
    "plt.plot(test_risk, label='Test')\n",
    "plt.xlabel('Epoch')\n",
    "plt.ylabel('Risk')\n",
    "plt.legend()\n",
    "plt.show()"
   ]
  },
  {
   "cell_type": "markdown",
   "id": "9f3471ba",
   "metadata": {},
   "source": [
    "## Dropout and Batch-Normalization"
   ]
  },
  {
   "cell_type": "markdown",
   "id": "e2f61cc9",
   "metadata": {},
   "source": [
    "### Technique 1: Dropout\n",
    "Dropout can be readily implemented via `nn.Dropout()`. We add it to our implementation in the following code.\n",
    "\n",
    "Definition from PyTorch: During training, randomly zeroes some of the elements of the input tensor with probability p.\n",
    "\n",
    "Note that the definition p is dropout probability instead of retaining probability in the slide. \n"
   ]
  },
  {
   "cell_type": "code",
   "execution_count": 25,
   "id": "be1fc329-8624-488a-8881-f8ef3de1a5db",
   "metadata": {},
   "outputs": [
    {
     "data": {
      "text/plain": [
       "tensor([[-0.0000, -0.0000],\n",
       "        [ 0.0000, -0.0000],\n",
       "        [ 0.0000, -0.0000],\n",
       "        [ 0.0000,  0.0000],\n",
       "        [-0.0000,  0.0000],\n",
       "        [-0.0000,  0.0000],\n",
       "        [-0.0000, -0.0000],\n",
       "        [ 0.0000, -4.1912],\n",
       "        [-0.0000, -0.0000],\n",
       "        [ 0.4633, 14.1892],\n",
       "        [ 7.4810, -0.0000],\n",
       "        [ 0.0000,  0.0000],\n",
       "        [-2.4653,  0.0000],\n",
       "        [-0.0000, -0.0000],\n",
       "        [-0.0000, -0.0000],\n",
       "        [ 0.0000, -0.0000],\n",
       "        [ 8.4594, -0.0000],\n",
       "        [ 0.0000, -0.0000],\n",
       "        [ 0.0000, -0.0000],\n",
       "        [-0.0000, -6.2752]])"
      ]
     },
     "execution_count": 25,
     "metadata": {},
     "output_type": "execute_result"
    }
   ],
   "source": [
    "dropout = nn.Dropout(p=0.8)\n",
    "x = torch.randn(20, 2)\n",
    "output = dropout(x)\n",
    "output"
   ]
  },
  {
   "cell_type": "code",
   "execution_count": 24,
   "id": "c5b4bbf3",
   "metadata": {
    "ExecuteTime": {
     "end_time": "2024-03-07T18:10:22.846938Z",
     "start_time": "2024-03-07T18:10:22.841259Z"
    }
   },
   "outputs": [],
   "source": [
    "class RegularizedByDropOutNet(nn.Module):\n",
    "    def __init__(self):\n",
    "        super().__init__()\n",
    "\n",
    "        self.dropout1 = nn.Dropout(0.2)\n",
    "        self.layer1 = nn.Linear(20, 200)\n",
    "        self.active1 = nn.ReLU()\n",
    "\n",
    "        self.dropout2 = nn.Dropout(0.4)\n",
    "        self.layer2 = nn.Linear(200, 120)\n",
    "        self.active2 = nn.ReLU()\n",
    "\n",
    "        self.dropout3 = nn.Dropout(0.4)\n",
    "        self.layer3 = nn.Linear(120, 70)\n",
    "        self.active3 = nn.ReLU()\n",
    "\n",
    "        self.dropout4 = nn.Dropout(0.4)\n",
    "        self.layer4 = nn.Linear(70, 50)\n",
    "        self.active4 = nn.ReLU()\n",
    "\n",
    "        self.dropout5 = nn.Dropout(0.4)\n",
    "        self.layer5 = nn.Linear(50, 30)\n",
    "        self.active5 = nn.ReLU()\n",
    "\n",
    "        self.dropoutOut = nn.Dropout(0.4)\n",
    "        self.output = nn.Linear(30, 1)\n",
    "        self.sigmoid = nn.Sigmoid()\n",
    "\n",
    "    def forward(self, x):\n",
    "        x = self.dropout1(x)\n",
    "        x = self.active1(self.layer1(x))\n",
    "        x = self.active2(self.layer2(self.dropout2(x)))\n",
    "        x = self.active3(self.layer3(self.dropout3(x)))\n",
    "        x = self.active4(self.layer4(self.dropout4(x)))\n",
    "        x = self.active5(self.layer5(self.dropout5(x)))\n",
    "        x = self.sigmoid(self.output(self.dropoutOut(x)))\n",
    "        return x"
   ]
  },
  {
   "cell_type": "markdown",
   "id": "935a2efa",
   "metadata": {},
   "source": [
    "We can now try training this model to see the impact of Dropout."
   ]
  },
  {
   "cell_type": "code",
   "execution_count": 26,
   "id": "830f2c79",
   "metadata": {
    "ExecuteTime": {
     "end_time": "2024-03-07T18:12:56.912798Z",
     "start_time": "2024-03-07T18:11:56.567613Z"
    }
   },
   "outputs": [
    {
     "name": "stderr",
     "output_type": "stream",
     "text": [
      "training loop: 100%|██████████| 300/300 [01:00<00:00,  4.98epoch/s]\n"
     ]
    },
    {
     "data": {
      "image/png": "[encoded data removed]",
      "text/plain": [
       "<Figure size 640x480 with 1 Axes>"
      ]
     },
     "metadata": {},
     "output_type": "display_data"
    }
   ],
   "source": [
    "dropout_regularized_model = RegularizedByDropOutNet()\n",
    "train_risk, test_risk = training_loop(dropout_regularized_model)# complete\n",
    "\n",
    "plt.plot(train_risk, label='Train')\n",
    "plt.plot(test_risk, label='Test')\n",
    "plt.xlabel('Epoch')\n",
    "plt.ylabel('Risk')\n",
    "plt.legend()\n",
    "plt.show()"
   ]
  },
  {
   "cell_type": "markdown",
   "id": "7751bc21",
   "metadata": {},
   "source": [
    "### Technique 2: Batch-Normalization\n",
    "Let's now implement batch-normalization. For our model, we can readily implement one-dimensional batch-normalization via `nn.BatchNorm1d()`. 2D and 3D batch-normalization are useful in CNN, which we could practice in the next assignment."
   ]
  },
  {
   "cell_type": "code",
   "execution_count": 21,
   "id": "257c6e98",
   "metadata": {
    "ExecuteTime": {
     "end_time": "2024-03-07T18:13:03.884616Z",
     "start_time": "2024-03-07T18:13:03.879150Z"
    }
   },
   "outputs": [],
   "source": [
    "class RegularizedByDropOutAndBatchNormNet(nn.Module):\n",
    "    def __init__(self):\n",
    "        super().__init__()\n",
    "\n",
    "        self.dropout1 = nn.Dropout(0.2)\n",
    "        self.layer1 = nn.Linear(20, 200)\n",
    "        self.active1 = nn.ReLU()\n",
    "        self.BN1 = nn.BatchNorm1d(200)\n",
    "\n",
    "        self.dropout2 = nn.Dropout(0.4)\n",
    "        self.layer2 = nn.Linear(200, 120)\n",
    "        self.active2 = nn.ReLU()\n",
    "        self.BN2 = nn.BatchNorm1d(120)\n",
    "\n",
    "        self.dropout3 = nn.Dropout(0.4)\n",
    "        self.layer3 = nn.Linear(120, 70)\n",
    "        self.active3 = nn.ReLU()\n",
    "        self.BN3 = nn.BatchNorm1d(70)\n",
    "\n",
    "        self.dropout4 = nn.Dropout(0.4)\n",
    "        self.layer4 = nn.Linear(70, 50)\n",
    "        self.active4 = nn.ReLU()\n",
    "        self.BN4 = nn.BatchNorm1d(50)\n",
    "\n",
    "        self.dropout5 = nn.Dropout(0.4)\n",
    "        self.layer5 = nn.Linear(50, 30)\n",
    "        self.active5 = nn.ReLU()\n",
    "        self.BN5 = nn.BatchNorm1d(30)\n",
    "\n",
    "        self.dropoutOut = nn.Dropout(0.4)\n",
    "        self.output = nn.Linear(30, 1)\n",
    "        self.sigmoid = nn.Sigmoid()\n",
    "\n",
    "    def forward(self, x):\n",
    "        x = self.dropout1(x)\n",
    "        x = self.BN1(self.active1(self.layer1(x)))\n",
    "        x = self.BN2(self.active2(self.layer2(self.dropout2(x))))\n",
    "        x = self.BN3(self.active3(self.layer3(self.dropout3(x))))\n",
    "        x = self.BN4(self.active4(self.layer4(self.dropout4(x))))\n",
    "        x = self.BN5(self.active5(self.layer5(self.dropout5(x))))\n",
    "        x = self.sigmoid(self.output(self.dropoutOut(x)))\n",
    "        return x"
   ]
  },
  {
   "cell_type": "markdown",
   "id": "f7d36015",
   "metadata": {},
   "source": [
    "We can now try training this model."
   ]
  },
  {
   "cell_type": "code",
   "execution_count": 28,
   "id": "7e853b9c",
   "metadata": {
    "ExecuteTime": {
     "end_time": "2024-03-07T18:16:45.896404Z",
     "start_time": "2024-03-07T18:13:08.631415Z"
    }
   },
   "outputs": [
    {
     "name": "stderr",
     "output_type": "stream",
     "text": [
      "training loop: 100%|██████████| 300/300 [03:37<00:00,  1.38epoch/s]\n"
     ]
    },
    {
     "data": {
      "image/png": "[encoded data removed]",
      "text/plain": [
       "<Figure size 640x480 with 1 Axes>"
      ]
     },
     "metadata": {},
     "output_type": "display_data"
    }
   ],
   "source": [
    "dropout_and_batchnorm_regularized_model = RegularizedByDropOutAndBatchNormNet()\n",
    "train_risk, test_risk = training_loop(dropout_and_batchnorm_regularized_model)\n",
    "\n",
    "plt.plot(train_risk, label='Train')\n",
    "plt.plot(test_risk, label='Test')\n",
    "plt.xlabel('Epoch')\n",
    "plt.ylabel('Risk')\n",
    "plt.legend()\n",
    "plt.show()"
   ]
  },
  {
   "cell_type": "markdown",
   "id": "56a81753-1c0b-47eb-af95-2de9f63e6245",
   "metadata": {},
   "source": [
    "### Technique 3: L2 Regularization"
   ]
  },
  {
   "cell_type": "code",
   "execution_count": 30,
   "id": "7ec1e929-5a98-43dd-8299-d9fc632df624",
   "metadata": {},
   "outputs": [
    {
     "name": "stderr",
     "output_type": "stream",
     "text": [
      "training loop: 100%|██████████████████████████████████████████████████████████████| 300/300 [03:27<00:00,  1.45epoch/s]\n"
     ]
    },
    {
     "data": {
      "image/png": "[encoded data removed]",
      "text/plain": [
       "<Figure size 640x480 with 1 Axes>"
      ]
     },
     "metadata": {},
     "output_type": "display_data"
    }
   ],
   "source": [
    "l2_regularized_model = overfitClassifier()\n",
    "train_risk, test_risk = training_loop(l2_regularized_model, weight_decay=0.01)\n",
    "\n",
    "\n",
    "plt.plot(train_risk, label='Train')\n",
    "plt.plot(test_risk, label='Test')\n",
    "plt.xlabel('Epoch')\n",
    "plt.ylabel('Risk')\n",
    "plt.legend()\n",
    "plt.show()"
   ]
  },
  {
   "cell_type": "markdown",
   "id": "231ad7dd-93ab-47c0-aec9-702da74e7954",
   "metadata": {},
   "source": [
    "### Technique 4: L1 Regularization\n",
    "\n",
    "In PyTorch, L1 regularization can be implemented manually by adding a penalty term to the loss function. Unlike L2 regularization (which is built-in with weight_decay in optimizers), L1 regularization requires custom implementation."
   ]
  },
  {
   "cell_type": "code",
   "execution_count": 35,
   "id": "96a34f29-e41f-4f02-9d01-2bd324021e29",
   "metadata": {},
   "outputs": [
    {
     "data": {
      "text/plain": [
       "'\\nif l1_regularizer:\\n    l1_penalty = 0\\n    for param in model.parameters():\\n        l1_penalty += torch.sum(torch.abs(param))\\n    \\n    loss = loss + l1_lambda * l1_penalty  # Add L1 penalty to the loss\\n'"
      ]
     },
     "execution_count": 35,
     "metadata": {},
     "output_type": "execute_result"
    }
   ],
   "source": [
    "# L1 regularization: Add sum of absolute weights to the loss\n",
    "\n",
    "# The following code block is seen at function training_loop()\n",
    "\n",
    "'''\n",
    "if l1_regularizer:\n",
    "    l1_penalty = 0\n",
    "    for param in model.parameters():\n",
    "        l1_penalty += torch.sum(torch.abs(param))\n",
    "    \n",
    "    loss = loss + l1_lambda * l1_penalty  # Add L1 penalty to the loss\n",
    "'''"
   ]
  },
  {
   "cell_type": "code",
   "execution_count": 38,
   "id": "3b7d7913-c348-4be7-9631-157d7f75a683",
   "metadata": {},
   "outputs": [
    {
     "name": "stderr",
     "output_type": "stream",
     "text": [
      "training loop: 100%|█████████████████████████████████████████████████████████████████████████████████| 300/300 [04:44<00:00,  1.05epoch/s]\n"
     ]
    },
    {
     "data": {
      "image/png": "[encoded data removed]",
      "text/plain": [
       "<Figure size 640x480 with 1 Axes>"
      ]
     },
     "metadata": {},
     "output_type": "display_data"
    }
   ],
   "source": [
    "l1_regularized_model = overfitClassifier()\n",
    "train_risk, test_risk = training_loop(l1_regularized_model, \n",
    "                                      l1_regularizer=True,\n",
    "                                      l1_lambda=0.0001)\n",
    "\n",
    "\n",
    "plt.plot(train_risk, label='Train')\n",
    "plt.plot(test_risk, label='Test')\n",
    "plt.xlabel('Epoch')\n",
    "plt.ylabel('Risk')\n",
    "plt.legend()\n",
    "plt.show()"
   ]
  }
 ],
 "metadata": {
  "kernelspec": {
   "display_name": "Python 3 (ipykernel)",
   "language": "python",
   "name": "python3"
  },
  "language_info": {
   "codemirror_mode": {
    "name": "ipython",
    "version": 3
   },
   "file_extension": ".py",
   "mimetype": "text/x-python",
   "name": "python",
   "nbconvert_exporter": "python",
   "pygments_lexer": "ipython3",
   "version": "3.9.18"
  }
 },
 "nbformat": 4,
 "nbformat_minor": 5
}
